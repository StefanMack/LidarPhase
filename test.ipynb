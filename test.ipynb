{
 "cells": [
  {
   "cell_type": "markdown",
   "metadata": {},
   "source": [
    "### Berechnung des Phasenversatzes zwischen Sende- und Echosignal über Signalmultiplikation (Mischen)\n",
    "Das Sendesignal hat den Intensitätsverlauf $ sig_0(t) = \\cos(2\\pi f t) + 1 $, das Echolicht \n",
    "$ sig_x(t) = \\cos(2\\pi f t + \\phi) + 1 $.\n",
    "Multipliziert (d.h. *mischt*) man beide Signale, so ergibt sich:\n",
    "$ sig_0(t) \\cdot sig_x(t) = {1 \\over 2} \\cos(\\phi) + {1 \\over 2}\\cos(2\\pi 2f t - \\phi) + \\cos(2\\pi f t - \\phi)\n",
    "+ \\cos(2\\pi f t ) + 1 $  \n",
    "Zur Berechnung der Phase $\\phi$ wird der Gleichanteil $mix_{mean}$ des gemischten Signals gemessen. Dieser beträgt: \n",
    "$$ mix_{mean} = {1 \\over 2} \\cos(\\phi) + 1 $$  \n",
    "\n",
    "Leider ist der Cosinus keine eineindeutige Funktion, weshalb alleine mit der Formel oben nicht der Phasenversatz rekonstruiert werden kann. Dafür benötigt man ein weiteres Mischen mit dem um $-\\pi/2$ phasenverschobenen Sendesignal $ sig_{0sin}$. Es gilt:  \n",
    "$$ sig_{0sin}(t) \\cdot sig_x(t) = {1 \\over 2} \\sin(\\phi) + {1 \\over 2}\\cos(2\\pi 2f t - \\phi- \\pi/2) + \\cos(2\\pi f t - \\phi)\n",
    "+ \\cos(2\\pi f t - \\pi/2 ) + 1 $$  \n",
    "\n",
    "Zur Berechnung der Phase $\\phi$ wird also zusätzlich der Gleichanteil $mix_{meansin}$ des mit dem um $-\\pi/2$ phasenverschobenen Sendesignal gemischten Echosignals gemessen. (Dabei ist ein um um $-\\pi/2$ verschobenes Cosinussignal nichts Anderes als ein entsprechendes Sinussignal.) Es gilt: \n",
    "$$ mix_{meansin} = {1 \\over 2} \\sin(\\phi) + 1 $$  \n",
    "\n",
    "Mit etwas Kombinatorik lässt sich aus den beiden Formeln für $mix_{mean}$ der Phasenversatz modulo $2 \\pi$ rekonstruieren, siehe letzter Abschnitt dieses Notebooks."
   ]
  },
  {
   "cell_type": "code",
   "execution_count": null,
   "metadata": {},
   "outputs": [],
   "source": []
  }
 ],
 "metadata": {
  "kernelspec": {
   "display_name": "Python 3",
   "language": "python",
   "name": "python3"
  },
  "language_info": {
   "codemirror_mode": {
    "name": "ipython",
    "version": 3
   },
   "file_extension": ".py",
   "mimetype": "text/x-python",
   "name": "python",
   "nbconvert_exporter": "python",
   "pygments_lexer": "ipython3",
   "version": "3.6.5"
  }
 },
 "nbformat": 4,
 "nbformat_minor": 2
}
